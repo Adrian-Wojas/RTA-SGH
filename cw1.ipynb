{
 "cells": [
  {
   "cell_type": "markdown",
   "id": "dfc09e52-adab-452e-bc08-28d6eb4cf88c",
   "metadata": {},
   "source": [
    "## Przykładowa aplikacja Flask \n",
    "\n",
    "Aplikacja ta ma na celu realizację połączenia Client-Serwer\n",
    "\n",
    "1. Utwórz nowy katalog `docker` i przejdź do katalogu.\n",
    "2. Utwórz nowy plik `app.py`, który zawierać będzie kod naszej aplikacji www.\n",
    "3. Zweryfikuj werjsę biblioteki Flask w swoim środowisku python - użyj pip list oraz narzędzia grep \n",
    "4. Przykładowy kod aplikacji znajdziesz na stronie https://flask.palletsprojects.com/en/3.0.x/quickstart/\n",
    "Zweryfikuj czy jest polecenie uruchamiające serwer:\n",
    "```python\n",
    "if __name__ == '__main__':\n",
    "    app.run()\n",
    "```  \n",
    "5. Uruchom polecenie\n",
    "\n",
    "```bash\n",
    "python app.py\n",
    "```\n",
    "Jeśli nic się nie uruchomiło (\n",
    "```bash\n",
    "python -m flask run\n",
    "```\n",
    "6. W nowym terminalu uruchom\n",
    "```bash\n",
    "curl localhost:5000\n",
    "```\n",
    "\n"
   ]
  },
  {
   "cell_type": "code",
   "execution_count": null,
   "id": "3f844012-5b17-4c88-b025-bf33de439c68",
   "metadata": {},
   "outputs": [],
   "source": [
    "def make_pretty(func):\n",
    "    def inner():\n",
    "        print(\"decorator działa\")\n",
    "        func()\n",
    "    return inner()"
   ]
  },
  {
   "cell_type": "code",
   "execution_count": null,
   "id": "9f4bdf0a-3728-4d84-b125-2e114b5df089",
   "metadata": {},
   "outputs": [],
   "source": [
    "def test():\n",
    "    print(\"abc\")"
   ]
  },
  {
   "cell_type": "code",
   "execution_count": null,
   "id": "e86f8d20-9a86-416f-9cab-0d035eeb87dc",
   "metadata": {},
   "outputs": [],
   "source": [
    "make_pretty(test)"
   ]
  },
  {
   "cell_type": "code",
   "execution_count": null,
   "id": "85111302-0dbb-4bdb-933d-a37ac5730bc5",
   "metadata": {},
   "outputs": [],
   "source": [
    "@make_pretty\n",
    "def test2():\n",
    "    print(\"test2\")"
   ]
  },
  {
   "cell_type": "code",
   "execution_count": null,
   "id": "07c7871a-5b79-4fc3-b68f-2ca661542028",
   "metadata": {},
   "outputs": [],
   "source": [
    "@make_pretty\n",
    "def test3():\n",
    "    print(\"jeszcze cos\")"
   ]
  },
  {
   "cell_type": "code",
   "execution_count": null,
   "id": "ede0afc2-f6c5-4a17-b3ce-9be88e67b167",
   "metadata": {},
   "outputs": [],
   "source": [
    "import subprocess\n",
    "import requests"
   ]
  },
  {
   "cell_type": "code",
   "execution_count": null,
   "id": "bf8b6e54-7439-4648-a24d-658daef483cb",
   "metadata": {},
   "outputs": [],
   "source": [
    "%%file app1.py\n",
    "\n",
    "from flask import Flask\n",
    "\n",
    "# Create a flask\n",
    "app = Flask(__name__)\n",
    "\n",
    "# Create an API end point\n",
    "@app.route('/hello', methods=['GET'])\n",
    "def say_hello():\n",
    "    return \"Hello World\"\n",
    "\n",
    "@app.route('/')\n",
    "def say_he():\n",
    "    return \"Hello z innej strony\"\n",
    "\n",
    "if __name__ == '__main__':\n",
    "    app.run()"
   ]
  },
  {
   "cell_type": "code",
   "execution_count": null,
   "id": "dad8c3f6-eaf6-46da-aa26-a329d6adffc8",
   "metadata": {},
   "outputs": [],
   "source": [
    "p = subprocess.Popen([\"python\", \"app1.py\"])"
   ]
  },
  {
   "cell_type": "code",
   "execution_count": null,
   "id": "6c7dcad3-8328-473a-8f00-f6edb8a0204b",
   "metadata": {},
   "outputs": [],
   "source": [
    "response = requests.get(\"http://127.0.0.1:5000/helloo\")\n",
    "\n",
    "response.content"
   ]
  },
  {
   "cell_type": "code",
   "execution_count": null,
   "id": "2b936f88-b1a1-483f-99af-b6a99fc2511c",
   "metadata": {},
   "outputs": [],
   "source": [
    "response = requests.get(\"http://127.0.0.1:5000/hello\")\n",
    "\n",
    "response.content"
   ]
  },
  {
   "cell_type": "code",
   "execution_count": null,
   "id": "52f10fd9-7ec5-4575-9655-d8f921ecbcf6",
   "metadata": {},
   "outputs": [],
   "source": [
    "import requests\n",
    "\n",
    "response = requests.get(\"http://127.0.0.1:5000/hello\")\n",
    "\n",
    "if response.status_code == 200:\n",
    "    print(response.content)"
   ]
  },
  {
   "cell_type": "code",
   "execution_count": null,
   "id": "6762223b-fab9-4309-a973-951ac842b91d",
   "metadata": {},
   "outputs": [],
   "source": [
    "p.kill()"
   ]
  },
  {
   "cell_type": "code",
   "execution_count": null,
   "id": "d6e2b9fb-464c-4885-a7b3-9195db6c70b7",
   "metadata": {},
   "outputs": [],
   "source": [
    "response = requests.get(\"http://127.0.0.1:5000/\")\n",
    "response.content"
   ]
  },
  {
   "cell_type": "code",
   "execution_count": null,
   "id": "b309ddcd-928e-4a2d-b75c-df6f38b07571",
   "metadata": {},
   "outputs": [],
   "source": [
    "%%file app.py\n",
    "\n",
    "from flask import Flask\n",
    "\n",
    "app = Flask(__name__)\n",
    "\n",
    "@app.route('/')\n",
    "def hello():\n",
    "    return \"<h1>hello world</h1>\"\n",
    "\n",
    "if __name__ == '__main__':\n",
    "    app.run(host='0.0.0.0', port=5000)"
   ]
  },
  {
   "cell_type": "code",
   "execution_count": 3,
   "id": "d83abe15-0c35-4f93-90e1-9df59254cc24",
   "metadata": {},
   "outputs": [
    {
     "name": "stdout",
     "output_type": "stream",
     "text": [
      "Writing Dockerfile\n"
     ]
    }
   ],
   "source": [
    "%%file Dockerfile\n",
    "From python:3.11-slim-buster\n",
    "\n",
    "WORKDIR /app\n",
    "\n",
    "COPY requirements.txt requirements.txt\n",
    "\n",
    "RUN pip install -r requirements.txt\n",
    "\n",
    "COPY app.py .\n",
    "\n",
    "ENV FLASK_APP=app\n",
    "\n",
    "EXPOSE 8000\n",
    "CMD [\"flask\", \"run\", \"--host\", \"0.0.0.0\", \"--port\", \"8000\"]"
   ]
  },
  {
   "cell_type": "markdown",
   "id": "37b06e5d-07c2-4b54-b16f-9ecacd1b4ad7",
   "metadata": {},
   "source": [
    "```bash\n",
    "docker build -t test_hello .\n",
    "\n",
    "docker run -p 5000:5000 test_hello\n",
    "```"
   ]
  },
  {
   "cell_type": "code",
   "execution_count": null,
   "id": "6dfb407c-01a8-4959-8bcd-4085764d641c",
   "metadata": {},
   "outputs": [],
   "source": [
    "%%file requirements.txt\n",
    "Flask==3.0.1"
   ]
  },
  {
   "cell_type": "code",
   "execution_count": null,
   "id": "f9575289-64d1-471f-8e12-14c4c33c3551",
   "metadata": {},
   "outputs": [],
   "source": [
    "%%file app2.py\n",
    "\n",
    "from flask import Flask\n",
    "from flask import request\n",
    "\n",
    "# Create a flask\n",
    "app = Flask(__name__)\n",
    "\n",
    "# Create an API end point\n",
    "@app.route('/hello', methods=['GET'])\n",
    "def say_hello():\n",
    "    name = request.args.get(\"name\", \"\") # tutaj leci str\n",
    "    title = request.args.get(\"title\", \"\")\n",
    "    if name:\n",
    "        resp = f\"Hello {title} {name}\" if title else f\"Hello {name}\"\n",
    "    else:\n",
    "        resp = f\"Hello {title}\" if title else \"Hello\"\n",
    "    return resp\n",
    "\n",
    "if __name__ == '__main__':\n",
    "    app.run(port=5005)"
   ]
  },
  {
   "cell_type": "code",
   "execution_count": null,
   "id": "182d778d-cede-482a-b0f6-ec9e82287f68",
   "metadata": {},
   "outputs": [],
   "source": [
    "p = subprocess.Popen([\"python\", \"app2.py\"])"
   ]
  },
  {
   "cell_type": "code",
   "execution_count": null,
   "id": "3bfc08ca-59d1-4ab8-b643-37d7da6d9d71",
   "metadata": {},
   "outputs": [],
   "source": [
    "response = requests.get(\"http://127.0.0.1:5005/hello\")\n",
    "response.content"
   ]
  },
  {
   "cell_type": "code",
   "execution_count": null,
   "id": "8cf51770-98b0-487d-a52f-aa6edc419451",
   "metadata": {},
   "outputs": [],
   "source": [
    "response = requests.get(\"http://127.0.0.1:5005/hello?name=Sebastian\")\n",
    "response.content"
   ]
  },
  {
   "cell_type": "code",
   "execution_count": null,
   "id": "6e9140a6-fcfe-4ff6-8ea7-81e4966e7b70",
   "metadata": {},
   "outputs": [],
   "source": [
    "p.kill()"
   ]
  },
  {
   "cell_type": "code",
   "execution_count": null,
   "id": "15e40a25-639f-46b6-95c1-da2cbbbd7395",
   "metadata": {},
   "outputs": [],
   "source": [
    "# return jsonify(features=features, predicted_class=predicted_class)"
   ]
  }
 ],
 "metadata": {
  "kernelspec": {
   "display_name": "Python 3 (ipykernel)",
   "language": "python",
   "name": "python3"
  },
  "language_info": {
   "codemirror_mode": {
    "name": "ipython",
    "version": 3
   },
   "file_extension": ".py",
   "mimetype": "text/x-python",
   "name": "python",
   "nbconvert_exporter": "python",
   "pygments_lexer": "ipython3",
   "version": "3.11.5"
  }
 },
 "nbformat": 4,
 "nbformat_minor": 5
}
